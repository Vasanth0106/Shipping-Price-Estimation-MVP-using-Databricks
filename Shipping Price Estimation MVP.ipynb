{
 "cells": [
  {
   "cell_type": "code",
   "execution_count": 0,
   "metadata": {
    "application/vnd.databricks.v1+cell": {
     "cellMetadata": {
      "byteLimit": 2048000,
      "rowLimit": 10000
     },
     "inputWidgets": {},
     "nuid": "94fcc665-801c-4079-bcd4-62d6bcf3e421",
     "showTitle": false,
     "tableResultSettingsMap": {},
     "title": ""
    }
   },
   "outputs": [
    {
     "output_type": "stream",
     "name": "stdout",
     "output_type": "stream",
     "text": [
      "root\n |-- index: long (nullable = true)\n |-- SKU Code: string (nullable = true)\n |-- Design No.: string (nullable = true)\n |-- Stock: double (nullable = true)\n |-- Category: string (nullable = true)\n |-- Size: string (nullable = true)\n |-- Color: string (nullable = true)\n\n+-----+-------------+----------+-----+-------------+----+-----+\n|index|     SKU Code|Design No.|Stock|     Category|Size|Color|\n+-----+-------------+----------+-----+-------------+----+-----+\n|    0|  AN201-RED-L|     AN201|  5.0|AN : LEGGINGS|   L|  Red|\n|    1|  AN201-RED-M|     AN201|  5.0|AN : LEGGINGS|   M|  Red|\n|    2|  AN201-RED-S|     AN201|  3.0|AN : LEGGINGS|   S|  Red|\n|    3| AN201-RED-XL|     AN201|  6.0|AN : LEGGINGS|  XL|  Red|\n|    4|AN201-RED-XXL|     AN201|  3.0|AN : LEGGINGS| XXL|  Red|\n+-----+-------------+----------+-----+-------------+----+-----+\nonly showing top 5 rows\n"
     ]
    }
   ],
   "source": [
    "from pyspark.sql.functions import rand, round, col, lit, sqrt, sin, cos, atan2, radians\n",
    "\n",
    "# STEP 1: Load Sales Report Table\n",
    "df = spark.table(\"workspace.salesdata.sale_report\")\n",
    "df.printSchema()\n",
    "df.show(5)\n"
   ]
  },
  {
   "cell_type": "markdown",
   "metadata": {
    "application/vnd.databricks.v1+cell": {
     "cellMetadata": {},
     "inputWidgets": {},
     "nuid": "9c4dbdd5-6fa1-43b0-ad88-2207f0b6e8f6",
     "showTitle": false,
     "tableResultSettingsMap": {},
     "title": ""
    }
   },
   "source": [
    " STEP 2: Generate Synthetic Product Metadata"
   ]
  },
  {
   "cell_type": "code",
   "execution_count": 0,
   "metadata": {
    "application/vnd.databricks.v1+cell": {
     "cellMetadata": {
      "byteLimit": 2048000,
      "rowLimit": 10000
     },
     "inputWidgets": {},
     "nuid": "973332d5-2cf1-4588-bcde-e750d1428822",
     "showTitle": false,
     "tableResultSettingsMap": {},
     "title": ""
    }
   },
   "outputs": [
    {
     "output_type": "stream",
     "name": "stdout",
     "output_type": "stream",
     "text": [
      "+-------------+---------+---------+--------+---------+----------+------+\n|     SKU Code|Weight_kg|Length_cm|Width_cm|Height_cm|Cost_Price|Profit|\n+-------------+---------+---------+--------+---------+----------+------+\n|   BTM008-XXL|     3.15|    49.98|   10.65|    23.54|     281.7|  4.95|\n|   J0166-DR-L|     4.38|    10.99|    9.62|    23.52|    467.59|119.67|\n|  J0297-TP-XS|      2.1|    38.38|   28.31|    11.89|    265.53|135.72|\n|JNE3426-KR-XL|     2.16|    46.86|    5.54|     7.67|    237.99|219.64|\n|  J0112-TP-XS|     4.27|    11.55|   31.78|    15.99|    662.43| 16.16|\n+-------------+---------+---------+--------+---------+----------+------+\nonly showing top 5 rows\n"
     ]
    }
   ],
   "source": [
    "# Extract distinct SKU Code\n",
    "df_skus = df.select(\"`SKU Code`\").distinct()\n",
    "\n",
    "# Generate synthetic weight, dimensions, cost price, and profit\n",
    "df_products = df_skus \\\n",
    "    .withColumn(\"Weight_kg\", round(rand() * 4 + 1, 2)) \\\n",
    "    .withColumn(\"Length_cm\", round(rand() * 40 + 10, 2)) \\\n",
    "    .withColumn(\"Width_cm\", round(rand() * 30 + 5, 2)) \\\n",
    "    .withColumn(\"Height_cm\", round(rand() * 20 + 5, 2)) \\\n",
    "    .withColumn(\"Cost_Price\", round(rand() * 500 + 200, 2)) \\\n",
    "    .withColumn(\"Profit\", round(rand() * 300, 2))\n",
    "\n",
    "df_products.show(5)\n"
   ]
  },
  {
   "cell_type": "markdown",
   "metadata": {
    "application/vnd.databricks.v1+cell": {
     "cellMetadata": {},
     "inputWidgets": {},
     "nuid": "96802076-2dbe-4093-b1fd-10c4625170b1",
     "showTitle": false,
     "tableResultSettingsMap": {},
     "title": ""
    }
   },
   "source": [
    "STEP 3: Generate Random Lat/Lon Coordinates (Customer + Supplier)"
   ]
  },
  {
   "cell_type": "code",
   "execution_count": 0,
   "metadata": {
    "application/vnd.databricks.v1+cell": {
     "cellMetadata": {
      "byteLimit": 2048000,
      "rowLimit": 10000
     },
     "inputWidgets": {},
     "nuid": "5d1bbe99-88d1-42cc-a305-cb8e3d8bbd61",
     "showTitle": false,
     "tableResultSettingsMap": {},
     "title": ""
    }
   },
   "outputs": [],
   "source": [
    "# Add synthetic lat/lon for shipping FROM and TO\n",
    "df_geo = df \\\n",
    "    .withColumn(\"Customer_Lat\", round(rand() * 180 - 90, 6)) \\\n",
    "    .withColumn(\"Customer_Lon\", round(rand() * 360 - 180, 6)) \\\n",
    "    .withColumn(\"Supplier_Lat\", round(rand() * 180 - 90, 6)) \\\n",
    "    .withColumn(\"Supplier_Lon\", round(rand() * 360 - 180, 6))\n"
   ]
  },
  {
   "cell_type": "markdown",
   "metadata": {
    "application/vnd.databricks.v1+cell": {
     "cellMetadata": {},
     "inputWidgets": {},
     "nuid": "88ff6d84-1486-42a7-9e86-5c7714cad573",
     "showTitle": false,
     "tableResultSettingsMap": {},
     "title": ""
    }
   },
   "source": [
    " STEP 4: Join with Product Metadata and Calculate Shipping Cost"
   ]
  },
  {
   "cell_type": "code",
   "execution_count": 0,
   "metadata": {
    "application/vnd.databricks.v1+cell": {
     "cellMetadata": {
      "byteLimit": 2048000,
      "rowLimit": 10000
     },
     "inputWidgets": {},
     "nuid": "b0468f49-a1b8-4512-b20a-e08fd3c99dbe",
     "showTitle": false,
     "tableResultSettingsMap": {},
     "title": ""
    }
   },
   "outputs": [
    {
     "output_type": "stream",
     "name": "stdout",
     "output_type": "stream",
     "text": [
      "+----------------+-----------+---------+-----------------+----------------+-------------+\n|        SKU Code|Distance_km|Weight_kg|Volumetric_Weight|Effective_Weight|Shipping_Cost|\n+----------------+-----------+---------+-----------------+----------------+-------------+\n|     AN201-RED-L|    4024.89|     3.35|             1.74|            3.35|     20207.95|\n|     AN201-RED-M|    9308.83|     4.02|              0.5|            4.02|     46634.35|\n|     AN201-RED-S|   12130.33|     4.95|             0.35|            4.95|     60751.15|\n|    AN201-RED-XL|    2148.52|      4.5|             2.75|             4.5|      10837.6|\n|   AN201-RED-XXL|   11950.15|     1.96|              1.1|            1.96|     59820.35|\n|  AN202-ORANGE-L|   12674.87|     1.82|             5.29|            5.29|     63477.25|\n|  AN202-ORANGE-M|   10498.82|     4.92|             1.86|            4.92|      52593.3|\n|  AN202-ORANGE-S|    7226.25|     2.95|             1.87|            2.95|     36210.75|\n| AN202-ORANGE-XL|    2928.06|     2.22|              2.0|            2.22|      14712.5|\n|AN202-ORANGE-XXL|    6857.68|     2.44|             1.34|            2.44|      34362.8|\n+----------------+-----------+---------+-----------------+----------------+-------------+\nonly showing top 10 rows\n"
     ]
    }
   ],
   "source": [
    "from pyspark.sql.functions import (\n",
    "    radians, sin, cos, atan2, sqrt,\n",
    "    col, round, lit, when\n",
    ")\n",
    "\n",
    "#  1. Join orders + product dimensions + geo info\n",
    "df_joined = df_geo.join(df_products, on=\"SKU Code\", how=\"inner\")\n",
    "\n",
    "# 2. Haversine formula to calculate distance (km)\n",
    "df_joined = df_joined \\\n",
    "    .withColumn(\"dLat\", radians(col(\"Customer_Lat\") - col(\"Supplier_Lat\"))) \\\n",
    "    .withColumn(\"dLon\", radians(col(\"Customer_Lon\") - col(\"Supplier_Lon\"))) \\\n",
    "    .withColumn(\n",
    "        \"a\",\n",
    "        sin(col(\"dLat\") / 2) ** 2 +\n",
    "        cos(radians(col(\"Supplier_Lat\"))) * cos(radians(col(\"Customer_Lat\"))) *\n",
    "        sin(col(\"dLon\") / 2) ** 2\n",
    "    ) \\\n",
    "    .withColumn(\"c\", 2 * atan2(sqrt(col(\"a\")), sqrt(1 - col(\"a\")))) \\\n",
    "    .withColumn(\"Distance_km\", round(6371 * col(\"c\"), 2))  # Earth's radius = 6371 km\n",
    "\n",
    "# 3. Volumetric weight (Length × Width × Height / 5000)\n",
    "df_joined = df_joined.withColumn(\n",
    "    \"Volumetric_Weight\",\n",
    "    round((col(\"Length_cm\") * col(\"Width_cm\") * col(\"Height_cm\")) / 5000, 2)\n",
    ")\n",
    "\n",
    "# 4. Effective shipping weight = max of physical vs volumetric\n",
    "df_joined = df_joined.withColumn(\n",
    "    \"Effective_Weight\",\n",
    "    when(col(\"Volumetric_Weight\") > col(\"Weight_kg\"), col(\"Volumetric_Weight\"))\n",
    "    .otherwise(col(\"Weight_kg\"))\n",
    ")\n",
    "df_joined = df_joined.withColumn(\"Effective_Weight\", round(col(\"Effective_Weight\"), 2))\n",
    "\n",
    "# 5. Shipping cost = ₹50 base + ₹5/km + ₹10/kg\n",
    "df_joined = df_joined.withColumn(\n",
    "    \"Shipping_Cost\",\n",
    "    round(lit(50) + col(\"Distance_km\") * 5 + col(\"Effective_Weight\") * 10, 2)\n",
    ")\n",
    "\n",
    "# Optional preview\n",
    "df_joined.select(\n",
    "    \"SKU Code\", \"Distance_km\", \"Weight_kg\", \"Volumetric_Weight\",\n",
    "    \"Effective_Weight\", \"Shipping_Cost\"\n",
    ").show(10)\n"
   ]
  },
  {
   "cell_type": "code",
   "execution_count": 0,
   "metadata": {
    "application/vnd.databricks.v1+cell": {
     "cellMetadata": {
      "byteLimit": 2048000,
      "rowLimit": 10000
     },
     "inputWidgets": {},
     "nuid": "b79a87b4-b780-407a-be2b-3c816e720ac8",
     "showTitle": false,
     "tableResultSettingsMap": {},
     "title": ""
    }
   },
   "outputs": [],
   "source": [
    "df_joined = df_joined \\\n",
    "    .withColumnRenamed(\"SKU Code\", \"SKU_Code\") \\\n",
    "    .withColumnRenamed(\"Design No.\", \"Design_No\")\n",
    "    \n",
    "   \n"
   ]
  },
  {
   "cell_type": "markdown",
   "metadata": {
    "application/vnd.databricks.v1+cell": {
     "cellMetadata": {},
     "inputWidgets": {},
     "nuid": "60acd325-90c7-493f-ad9d-24d407a6c85c",
     "showTitle": false,
     "tableResultSettingsMap": {},
     "title": ""
    }
   },
   "source": [
    "STEP 6: Save Final Shipping Estimates to Delta Table"
   ]
  },
  {
   "cell_type": "code",
   "execution_count": 0,
   "metadata": {
    "application/vnd.databricks.v1+cell": {
     "cellMetadata": {
      "byteLimit": 2048000,
      "rowLimit": 10000
     },
     "inputWidgets": {},
     "nuid": "61fef01c-eca2-405c-b0cf-aa80ec1cbfa3",
     "showTitle": false,
     "tableResultSettingsMap": {},
     "title": ""
    }
   },
   "outputs": [],
   "source": [
    "df_joined.write.format(\"delta\").mode(\"overwrite\").saveAsTable(\"workspace.salesdata.shipping_cost_estimates\")\n"
   ]
  }
 ],
 "metadata": {
  "application/vnd.databricks.v1+notebook": {
   "computePreferences": null,
   "dashboards": [],
   "environmentMetadata": {
    "base_environment": "",
    "environment_version": "2"
   },
   "inputWidgetPreferences": null,
   "language": "python",
   "notebookMetadata": {
    "pythonIndentUnit": 4
   },
   "notebookName": "Shipping Price Estimation MVP",
   "widgets": {}
  },
  "language_info": {
   "name": "python"
  }
 },
 "nbformat": 4,
 "nbformat_minor": 0
}